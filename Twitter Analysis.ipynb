{
 "cells": [
  {
   "cell_type": "code",
   "execution_count": 1,
   "metadata": {
    "collapsed": true
   },
   "outputs": [],
   "source": [
    "#import packages\n",
    "import numpy as np\n",
    "import pandas as pd\n",
    "import matplotlib.pyplot as plt\n",
    "import json\n",
    "import tweepy\n",
    "import seaborn as sns\n",
    "\n"
   ]
  },
  {
   "cell_type": "code",
   "execution_count": 2,
   "metadata": {
    "collapsed": true
   },
   "outputs": [],
   "source": [
    "# import vade\n",
    "from vaderSentiment.vaderSentiment import SentimentIntensityAnalyzer\n",
    "analyzer = SentimentIntensityAnalyzer()"
   ]
  },
  {
   "cell_type": "code",
   "execution_count": 3,
   "metadata": {
    "collapsed": true
   },
   "outputs": [],
   "source": [
    "# Twitter API Keys\n",
    "consumer_key = \"5G5qJbC2JnSOK7X0LuyBgdl1s\"\n",
    "consumer_secret = \"SI1R97cioH9us6qzbV8lLfCdVzColdV7zZGdvDzivyJ8TD4JUx\"\n",
    "access_token = \"358992061-DyzdZ3Ah4dayoVnmXTHH2ML2PguUVrGdSGNfSUgf\"\n",
    "access_token_secret = \"dRGIIiZEkbfCuOME3uInFlyUUWixnjzHgzAeRVm79Y0eB\"\n",
    "\n",
    "# Setup Tweepy API Authentication\n",
    "auth = tweepy.OAuthHandler(consumer_key, consumer_secret)\n",
    "auth.set_access_token(access_token, access_token_secret)\n",
    "api = tweepy.API(auth, parser=tweepy.parsers.JSONParser())"
   ]
  },
  {
   "cell_type": "code",
   "execution_count": 4,
   "metadata": {
    "collapsed": true
   },
   "outputs": [],
   "source": [
    "news_accounts = ['BBCWORLD','NYT','FoxNews','CBSNews','CNN', 'Politico']\n"
   ]
  },
  {
   "cell_type": "code",
   "execution_count": 5,
   "metadata": {
    "collapsed": true
   },
   "outputs": [],
   "source": [
    "public_tweet = api.user_timeline(news_accounts[0])"
   ]
  },
  {
   "cell_type": "code",
   "execution_count": 7,
   "metadata": {
    "scrolled": false
   },
   "outputs": [
    {
     "name": "stdout",
     "output_type": "stream",
     "text": [
      "{\n",
      "    \"contributors\": null,\n",
      "    \"coordinates\": null,\n",
      "    \"created_at\": \"Sun Jan 07 13:22:38 +0000 2018\",\n",
      "    \"entities\": {\n",
      "        \"hashtags\": [],\n",
      "        \"media\": [\n",
      "            {\n",
      "                \"display_url\": \"pic.twitter.com/RgjBp9otcH\",\n",
      "                \"expanded_url\": \"https://twitter.com/BBCWorld/status/949994688702017536/photo/1\",\n",
      "                \"id\": 949994352146898945,\n",
      "                \"id_str\": \"949994352146898945\",\n",
      "                \"indices\": [\n",
      "                    115,\n",
      "                    138\n",
      "                ],\n",
      "                \"media_url\": \"http://pbs.twimg.com/media/DS8O1HpX4AEISri.jpg\",\n",
      "                \"media_url_https\": \"https://pbs.twimg.com/media/DS8O1HpX4AEISri.jpg\",\n",
      "                \"sizes\": {\n",
      "                    \"large\": {\n",
      "                        \"h\": 512,\n",
      "                        \"resize\": \"fit\",\n",
      "                        \"w\": 1024\n",
      "                    },\n",
      "                    \"medium\": {\n",
      "                        \"h\": 512,\n",
      "                        \"resize\": \"fit\",\n",
      "                        \"w\": 1024\n",
      "                    },\n",
      "                    \"small\": {\n",
      "                        \"h\": 340,\n",
      "                        \"resize\": \"fit\",\n",
      "                        \"w\": 680\n",
      "                    },\n",
      "                    \"thumb\": {\n",
      "                        \"h\": 150,\n",
      "                        \"resize\": \"crop\",\n",
      "                        \"w\": 150\n",
      "                    }\n",
      "                },\n",
      "                \"type\": \"photo\",\n",
      "                \"url\": \"https://t.co/RgjBp9otcH\"\n",
      "            }\n",
      "        ],\n",
      "        \"symbols\": [],\n",
      "        \"urls\": [\n",
      "            {\n",
      "                \"display_url\": \"bbc.in/2D5jUmn\",\n",
      "                \"expanded_url\": \"http://bbc.in/2D5jUmn\",\n",
      "                \"indices\": [\n",
      "                    91,\n",
      "                    114\n",
      "                ],\n",
      "                \"url\": \"https://t.co/K6KF7MENGv\"\n",
      "            }\n",
      "        ],\n",
      "        \"user_mentions\": []\n",
      "    },\n",
      "    \"extended_entities\": {\n",
      "        \"media\": [\n",
      "            {\n",
      "                \"display_url\": \"pic.twitter.com/RgjBp9otcH\",\n",
      "                \"expanded_url\": \"https://twitter.com/BBCWorld/status/949994688702017536/photo/1\",\n",
      "                \"id\": 949994352146898945,\n",
      "                \"id_str\": \"949994352146898945\",\n",
      "                \"indices\": [\n",
      "                    115,\n",
      "                    138\n",
      "                ],\n",
      "                \"media_url\": \"http://pbs.twimg.com/media/DS8O1HpX4AEISri.jpg\",\n",
      "                \"media_url_https\": \"https://pbs.twimg.com/media/DS8O1HpX4AEISri.jpg\",\n",
      "                \"sizes\": {\n",
      "                    \"large\": {\n",
      "                        \"h\": 512,\n",
      "                        \"resize\": \"fit\",\n",
      "                        \"w\": 1024\n",
      "                    },\n",
      "                    \"medium\": {\n",
      "                        \"h\": 512,\n",
      "                        \"resize\": \"fit\",\n",
      "                        \"w\": 1024\n",
      "                    },\n",
      "                    \"small\": {\n",
      "                        \"h\": 340,\n",
      "                        \"resize\": \"fit\",\n",
      "                        \"w\": 680\n",
      "                    },\n",
      "                    \"thumb\": {\n",
      "                        \"h\": 150,\n",
      "                        \"resize\": \"crop\",\n",
      "                        \"w\": 150\n",
      "                    }\n",
      "                },\n",
      "                \"type\": \"photo\",\n",
      "                \"url\": \"https://t.co/RgjBp9otcH\"\n",
      "            }\n",
      "        ]\n",
      "    },\n",
      "    \"favorite_count\": 246,\n",
      "    \"favorited\": false,\n",
      "    \"geo\": null,\n",
      "    \"id\": 949994688702017536,\n",
      "    \"id_str\": \"949994688702017536\",\n",
      "    \"in_reply_to_screen_name\": \"BBCWorld\",\n",
      "    \"in_reply_to_status_id\": 949992593554800640,\n",
      "    \"in_reply_to_status_id_str\": \"949992593554800640\",\n",
      "    \"in_reply_to_user_id\": 742143,\n",
      "    \"in_reply_to_user_id_str\": \"742143\",\n",
      "    \"is_quote_status\": false,\n",
      "    \"lang\": \"de\",\n",
      "    \"place\": null,\n",
      "    \"possibly_sensitive\": false,\n",
      "    \"retweet_count\": 126,\n",
      "    \"retweeted\": false,\n",
      "    \"source\": \"<a href=\\\"https://about.twitter.com/products/tweetdeck\\\" rel=\\\"nofollow\\\">TweetDeck</a>\",\n",
      "    \"text\": \"France Gall was \\\"a timeless icon of French song\\\", said Culture Minister Fran\\u00e7oise Nyssen \\n\\nhttps://t.co/K6KF7MENGv https://t.co/RgjBp9otcH\",\n",
      "    \"truncated\": false,\n",
      "    \"user\": {\n",
      "        \"contributors_enabled\": false,\n",
      "        \"created_at\": \"Thu Feb 01 07:44:29 +0000 2007\",\n",
      "        \"default_profile\": false,\n",
      "        \"default_profile_image\": false,\n",
      "        \"description\": \"News, features and analysis from the World's newsroom. Breaking news, follow @BBCBreaking. UK news, @BBCNews. Latest sports news @BBCSport\",\n",
      "        \"entities\": {\n",
      "            \"description\": {\n",
      "                \"urls\": []\n",
      "            },\n",
      "            \"url\": {\n",
      "                \"urls\": [\n",
      "                    {\n",
      "                        \"display_url\": \"bbc.com/news\",\n",
      "                        \"expanded_url\": \"http://www.bbc.com/news\",\n",
      "                        \"indices\": [\n",
      "                            0,\n",
      "                            23\n",
      "                        ],\n",
      "                        \"url\": \"https://t.co/7NEgoMwJy3\"\n",
      "                    }\n",
      "                ]\n",
      "            }\n",
      "        },\n",
      "        \"favourites_count\": 8,\n",
      "        \"follow_request_sent\": false,\n",
      "        \"followers_count\": 22277849,\n",
      "        \"following\": false,\n",
      "        \"friends_count\": 85,\n",
      "        \"geo_enabled\": false,\n",
      "        \"has_extended_profile\": false,\n",
      "        \"id\": 742143,\n",
      "        \"id_str\": \"742143\",\n",
      "        \"is_translation_enabled\": true,\n",
      "        \"is_translator\": false,\n",
      "        \"lang\": \"en\",\n",
      "        \"listed_count\": 106855,\n",
      "        \"location\": \"London, UK\",\n",
      "        \"name\": \"BBC News (World)\",\n",
      "        \"notifications\": false,\n",
      "        \"profile_background_color\": \"FFFFFF\",\n",
      "        \"profile_background_image_url\": \"http://pbs.twimg.com/profile_background_images/459295591915204608/P0byaGJj.jpeg\",\n",
      "        \"profile_background_image_url_https\": \"https://pbs.twimg.com/profile_background_images/459295591915204608/P0byaGJj.jpeg\",\n",
      "        \"profile_background_tile\": false,\n",
      "        \"profile_banner_url\": \"https://pbs.twimg.com/profile_banners/742143/1485172490\",\n",
      "        \"profile_image_url\": \"http://pbs.twimg.com/profile_images/875702138680246273/BfQLzf7G_normal.jpg\",\n",
      "        \"profile_image_url_https\": \"https://pbs.twimg.com/profile_images/875702138680246273/BfQLzf7G_normal.jpg\",\n",
      "        \"profile_link_color\": \"1F527B\",\n",
      "        \"profile_sidebar_border_color\": \"FFFFFF\",\n",
      "        \"profile_sidebar_fill_color\": \"FFFFFF\",\n",
      "        \"profile_text_color\": \"5A5A5A\",\n",
      "        \"profile_use_background_image\": true,\n",
      "        \"protected\": false,\n",
      "        \"screen_name\": \"BBCWorld\",\n",
      "        \"statuses_count\": 271218,\n",
      "        \"time_zone\": \"London\",\n",
      "        \"translator_type\": \"none\",\n",
      "        \"url\": \"https://t.co/7NEgoMwJy3\",\n",
      "        \"utc_offset\": 0,\n",
      "        \"verified\": true\n",
      "    }\n",
      "}\n"
     ]
    }
   ],
   "source": [
    "print(json.dumps(public_tweet[10], indent = 4, sort_keys= True, separators=(',', ': ')))"
   ]
  },
  {
   "cell_type": "code",
   "execution_count": 9,
   "metadata": {
    "collapsed": true
   },
   "outputs": [],
   "source": [
    "news_accounts = ['BBCWORLD','NYT','FoxNews','CBSNews','CNN', 'Politico']"
   ]
  },
  {
   "cell_type": "code",
   "execution_count": 10,
   "metadata": {
    "collapsed": true
   },
   "outputs": [],
   "source": [
    "#set counter to one for tweets ago\n",
    "counter = 1\n",
    "sentiment = []\n",
    "\n",
    "#loop through each twitter handle in news_accounts\n",
    "for account in news_accounts:\n",
    "    \n",
    "    counter = 1 \n",
    "    #loop through 5 pages of 20 tweets\n",
    "    for x in range (5):\n",
    "        account_tweets = api.user_timeline(account,page = x)\n",
    "        \n",
    "        for tweet in account_tweets:\n",
    "            compound = analyzer.polarity_scores(tweet[\"text\"])[\"compound\"]\n",
    "            pos = analyzer.polarity_scores(tweet[\"text\"])[\"pos\"]\n",
    "            neu = analyzer.polarity_scores(tweet[\"text\"])[\"neu\"]\n",
    "            neg = analyzer.polarity_scores(tweet[\"text\"])[\"neg\"]\n",
    "            tweets_ago = counter\n",
    "            \n",
    "            \n",
    "           \n",
    "            #make a dictonary for each item retrieved  \n",
    "            sentiment.append({'User':account,\n",
    "                           \"Date\": tweet[\"created_at\"], \n",
    "                           \"Compound\": compound,\n",
    "                           \"Positive\": pos,\n",
    "                           \"Negative\": neu,\n",
    "                           \"Neutral\": neg,\n",
    "                           \"Tweets Ago\": counter})\n",
    "            \n",
    "            counter = counter + 1\n",
    "   \n",
    "        "
   ]
  },
  {
   "cell_type": "code",
   "execution_count": 9,
   "metadata": {
    "collapsed": true
   },
   "outputs": [],
   "source": [
    "#make a data frame from the dictonary\n",
    "sentiment_tweets = pd.DataFrame.from_dict(sentiment)"
   ]
  },
  {
   "cell_type": "code",
   "execution_count": 10,
   "metadata": {
    "scrolled": true
   },
   "outputs": [
    {
     "data": {
      "text/plain": [
       "Compound                              0.8955\n",
       "Date          Wed Dec 13 23:03:23 +0000 2017\n",
       "Negative                                   1\n",
       "Neutral                                0.672\n",
       "Positive                               0.515\n",
       "Tweets Ago                               100\n",
       "User                                Politico\n",
       "dtype: object"
      ]
     },
     "execution_count": 10,
     "metadata": {},
     "output_type": "execute_result"
    }
   ],
   "source": [
    "sentiment_tweets.max()"
   ]
  },
  {
   "cell_type": "code",
   "execution_count": 11,
   "metadata": {
    "collapsed": true
   },
   "outputs": [],
   "source": [
    "#reduced the amount of columns we use\n",
    "sentiment_filtered = sentiment_tweets[['Compound','Tweets Ago','User']]\n",
    "\n",
    "\n"
   ]
  },
  {
   "cell_type": "code",
   "execution_count": 12,
   "metadata": {},
   "outputs": [
    {
     "data": {
      "text/plain": [
       "-0.039213"
      ]
     },
     "execution_count": 12,
     "metadata": {},
     "output_type": "execute_result"
    }
   ],
   "source": [
    "sentiment_tweets_1 = sentiment_filtered[sentiment_filtered['User']=='CBSNews']\n",
    "sentiment_tweets_1['Compound'].mean()"
   ]
  },
  {
   "cell_type": "code",
   "execution_count": 13,
   "metadata": {
    "scrolled": false
   },
   "outputs": [
    {
     "data": {
      "image/png": "[encoded data removed]",
      "text/plain": [
       "<matplotlib.figure.Figure at 0x1a150c2b70>"
      ]
     },
     "metadata": {},
     "output_type": "display_data"
    }
   ],
   "source": [
    "#sctter plot showing the polarity of tweets\n",
    "palette_color = sns.color_palette()\n",
    "twitter_scatter = sns.lmplot(x='Tweets Ago', y='Compound', \n",
    "                             data=sentiment_filtered,hue='User' ,\n",
    "                             palette=palette_color\n",
    "                            ,fit_reg= False, legend = False,)\n",
    "\n",
    "plt.ylim(ymax = 1)\n",
    "#inverts the x-axis\n",
    "plt.gca().invert_xaxis()\n",
    "plt.legend(fontsize=\"small\", mode=\"Expanded\", \n",
    "                  numpoints=1, scatterpoints=1, \n",
    "                  loc=\"upper left\", bbox_to_anchor=(1,1), title=\"Media Sources\", \n",
    "                  labelspacing=0.5)\n",
    "plt.ylabel('Tweet Polarity')\n",
    "plt.savefig('Scatter_Plot_Polarity')\n",
    "plt.grid(True)\n",
    "plt.show()"
   ]
  },
  {
   "cell_type": "code",
   "execution_count": 33,
   "metadata": {
    "collapsed": true
   },
   "outputs": [],
   "source": [
    "#find the mean sentiment score for each user\n",
    "df_bar_grouping = sentiment_filtered.groupby(['User']).mean()['Compound']\n"
   ]
  },
  {
   "cell_type": "code",
   "execution_count": 63,
   "metadata": {},
   "outputs": [
    {
     "data": {
      "image/png": "[encoded data removed]",
      "text/plain": [
       "<matplotlib.figure.Figure at 0x1a2070c710>"
      ]
     },
     "metadata": {},
     "output_type": "display_data"
    }
   ],
   "source": [
    "#bar chart \n",
    "sns.set_style(style='dark')\n",
    "\n",
    "bar_tweet = sns.barplot(x='User', y='Compound', data=sentiment_filtered, ci=False)\n",
    "plt.title('Overall Media Sentiment based on Twitter (last 100 tweets) ')\n",
    "plt.xlabel('Twitter Name')\n",
    "\n",
    "plt.ylim(ymax = .13)\n",
    "plt.ylim(ymin = -.12)\n",
    "plt.savefig('Overall_Media_Senttiment_Bar_Chart')\n",
    "plt.show()"
   ]
  },
  {
   "cell_type": "code",
   "execution_count": null,
   "metadata": {
    "collapsed": true
   },
   "outputs": [],
   "source": []
  }
 ],
 "metadata": {
  "kernelspec": {
   "display_name": "Python [default]",
   "language": "python",
   "name": "python3"
  },
  "language_info": {
   "codemirror_mode": {
    "name": "ipython",
    "version": 3
   },
   "file_extension": ".py",
   "mimetype": "text/x-python",
   "name": "python",
   "nbconvert_exporter": "python",
   "pygments_lexer": "ipython3",
   "version": "3.6.2"
  }
 },
 "nbformat": 4,
 "nbformat_minor": 2
}
